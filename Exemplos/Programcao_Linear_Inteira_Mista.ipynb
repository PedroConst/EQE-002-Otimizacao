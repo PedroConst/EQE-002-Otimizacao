{
  "nbformat": 4,
  "nbformat_minor": 0,
  "metadata": {
    "colab": {
      "provenance": [],
      "authorship_tag": "ABX9TyNaWAF1bi9i1M2gAFjioOuw",
      "include_colab_link": true
    },
    "kernelspec": {
      "name": "python3",
      "display_name": "Python 3"
    },
    "language_info": {
      "name": "python"
    }
  },
  "cells": [
    {
      "cell_type": "markdown",
      "metadata": {
        "id": "view-in-github",
        "colab_type": "text"
      },
      "source": [
        "<a href=\"https://colab.research.google.com/github/PedroConst/EQE-002-Otimizacao/blob/main/Exemplos/Programcao_Linear_Inteira_Mista.ipynb\" target=\"_parent\"><img src=\"https://colab.research.google.com/assets/colab-badge.svg\" alt=\"Open In Colab\"/></a>"
      ]
    },
    {
      "cell_type": "markdown",
      "source": [
        "# Programação Linear Inteira Mista (*Mixed Integer Linear Programming*)"
      ],
      "metadata": {
        "id": "P171N6naxieE"
      }
    },
    {
      "cell_type": "markdown",
      "source": [
        "Antes de usar o software GEKKO, é necessário baixar a instalar o pacote através do comando abaixo."
      ],
      "metadata": {
        "id": "HXrxihe_5WH8"
      }
    },
    {
      "cell_type": "code",
      "execution_count": 1,
      "metadata": {
        "id": "EHRE0xhytHhf",
        "colab": {
          "base_uri": "https://localhost:8080/"
        },
        "outputId": "22449782-0b6f-4cef-9ea6-b6fb0cbf52fc"
      },
      "outputs": [
        {
          "output_type": "stream",
          "name": "stdout",
          "text": [
            "Collecting gekko\n",
            "  Downloading gekko-1.1.1-py3-none-any.whl (13.2 MB)\n",
            "\u001b[2K     \u001b[90m━━━━━━━━━━━━━━━━━━━━━━━━━━━━━━━━━━━━━━━━\u001b[0m \u001b[32m13.2/13.2 MB\u001b[0m \u001b[31m18.9 MB/s\u001b[0m eta \u001b[36m0:00:00\u001b[0m\n",
            "\u001b[?25hRequirement already satisfied: numpy>=1.8 in /usr/local/lib/python3.10/dist-packages (from gekko) (1.25.2)\n",
            "Installing collected packages: gekko\n",
            "Successfully installed gekko-1.1.1\n"
          ]
        }
      ],
      "source": [
        "pip install gekko"
      ]
    },
    {
      "cell_type": "code",
      "source": [
        "import numpy as np\n",
        "import matplotlib.pyplot as plt\n",
        "from gekko import GEKKO"
      ],
      "metadata": {
        "id": "ZNmNiRbLtNWd"
      },
      "execution_count": 2,
      "outputs": []
    },
    {
      "cell_type": "markdown",
      "metadata": {
        "id": "2da44553"
      },
      "source": [
        "## Mixed Integer Linear Programming\n",
        "\n",
        "A programação linear inteira mista (MILP) é um tipo de problema de otimização que envolve variáveis tanto contínuas quanto discretas (inteiras). Em contraste, a programação linear regular (LP) envolve apenas variáveis contínuas. A presença de variáveis inteiras em MIP torna o problema mais difícil de resolver, já que o espaço de solução é agora discreto em vez de contínuo. Isso significa que muitas das técnicas usadas para resolver problemas de LP não são aplicáveis a MIP. Algoritmos e solucionadores especializados, como branch-and-bound e branch-and-cut, são tipicamente usados para resolver problemas de MIP."
      ]
    },
    {
      "cell_type": "markdown",
      "metadata": {
        "id": "27de78df"
      },
      "source": [
        "#### Gekko Mixed Integer Linear Programming\n",
        "\n",
        "O código a seguir mostra como resolver problemas de programação linear inteira mista. Use `integer=True` para especificar uma variável inteira. O solucionador (*solver*) `APOPT` é um solucionador inteiro misto em `gekko` que é selecionado com `m.options.SOLVER=1`.\n",
        "\n",
        "<img align=left width=200px src='https://apmonitor.com/wiki/uploads/Main/gekko.png'>"
      ]
    },
    {
      "cell_type": "code",
      "execution_count": null,
      "metadata": {
        "id": "51ca0905",
        "colab": {
          "base_uri": "https://localhost:8080/"
        },
        "outputId": "4bd40fbe-b185-40d5-c8e6-8eb9067d19d1"
      },
      "outputs": [
        {
          "output_type": "stream",
          "name": "stdout",
          "text": [
            "Objective function:  -3.0\n",
            "Optimal solution:  [[3.0] [0.0]]\n"
          ]
        }
      ],
      "source": [
        "# Criar Modelo\n",
        "m = GEKKO(remote=False)\n",
        "\n",
        "# Definir Variáveis de Decisão\n",
        "x = m.Array(m.Var,2,lb=0,ub=10,integer=True)\n",
        "\n",
        "# Definir Função Objetivo MILP\n",
        "c = [-1, 4] # minimize -x + 4y\n",
        "m.Minimize(c@x)\n",
        "\n",
        "# Definir Restrições MILP\n",
        "A_u = np.array([[3, 2], [1, 5]])\n",
        "b_u = np.array([10,10])\n",
        "Ax = A_u@x\n",
        "m.Equations([Ax[i]<=b_u[i] for i in range(len(b_u))])\n",
        "\n",
        "# Resolver Otimização MILP\n",
        "m.options.SOLVER=1\n",
        "m.solve(disp=False)\n",
        "\n",
        "# Imprimir os Resultados\n",
        "print(\"Objective function: \", m.options.objfcnval)\n",
        "print(\"Optimal solution: \", x)"
      ]
    },
    {
      "cell_type": "markdown",
      "metadata": {
        "id": "b1d1da20"
      },
      "source": [
        "#### ✅ Atividade: Resolver o Problema de Programação Linear Inteira Mista (MILP)\n",
        "\n",
        "$\\begin{align}\\mathrm{maximize} \\quad & x+y \\\\ \\mathrm{subject\\;to}\\quad & 6x+4y\\le24 \\\\ & x+2y\\le6 \\\\ &-x+y\\le1 \\\\ & 0\\le y\\le2 \\\\ & x\\ge0 \\end{align}$\n",
        "\n",
        "Onde `x` e `y` são valores inteiros. Use tanto `gekko` para resolver o MILP e relatar os resultados para `x`, `y` e o valor da função objetivo."
      ]
    },
    {
      "cell_type": "code",
      "execution_count": null,
      "metadata": {
        "id": "b83c420b",
        "colab": {
          "base_uri": "https://localhost:8080/"
        },
        "outputId": "04166af4-6ea2-491a-d4dc-b2bd679440de"
      },
      "outputs": [
        {
          "output_type": "stream",
          "name": "stdout",
          "text": [
            "x: 2.0 y: 2.0 obj: 4.0\n"
          ]
        }
      ],
      "source": [
        "# Definir o Modelo\n",
        "m = GEKKO(remote=False)\n",
        "\n",
        "# Definir Variáveis de Decisão\n",
        "x,y = m.Array(m.Var,2,lb=0,integer=True)\n",
        "\n",
        "# Definir Função Objetivo MILP\n",
        "m.Maximize(x+y)\n",
        "\n",
        "# Definir Restrições MILP\n",
        "m.Equations([6*x+4*y<=24,x+2*y<=6,-x+y<=1,y<=2])\n",
        "\n",
        "# Resolver Otimização MILP\n",
        "m.options.SOLVER=1\n",
        "m.solve(disp=False)\n",
        "xopt = x.value[0]; yopt = y.value[0]\n",
        "\n",
        "# Plotar Resultados\n",
        "print('x:', xopt,'y:', yopt,'obj:',-m.options.objfcnval)"
      ]
    },
    {
      "cell_type": "markdown",
      "metadata": {
        "id": "0bfc179a"
      },
      "source": [
        "There are 3 potential solutions. Find the integer solutions on the contour plot to graphically verify the results.\n",
        "\n",
        "<img align=left width=500px src='https://apmonitor.com/me575/uploads/Main/lp_example.png'>"
      ]
    },
    {
      "cell_type": "markdown",
      "source": [
        "#### ✅ Atividade: Resolver o Problema de Programação Linear Inteira Mista (MILP)\n",
        "\n",
        "$\\begin{align}\\mathrm{maximize} \\quad & 3x+5y \\\\ \\mathrm{subject\\;to}\\quad & 2x+3y\\ge12 \\\\ & x+2y\\le8 \\\\ & y\\ge0 \\\\ & x\\ge0 \\end{align}$\n",
        "\n",
        "Onde `x` e `y` são valores inteiros. Use tanto `gekko` para resolver o MILP e relatar os resultados para `x`, `y` e o valor da função objetivo."
      ],
      "metadata": {
        "id": "KoudGUlZzdcz"
      }
    },
    {
      "cell_type": "code",
      "source": [
        "# Usando Gekko\n",
        "from gekko import GEKKO\n",
        "\n",
        "# Cria uma instância do modelo\n",
        "m = GEKKO(remote=False)\n",
        "\n",
        "# Define o solver como APOPT (Mixed Integer Solver)\n",
        "m.options.SOLVER = 1\n",
        "\n",
        "# Define variáveis\n",
        "x = m.Var(integer=True)\n",
        "y = m.Var(integer=True)\n",
        "\n",
        "# Define a função objetivo\n",
        "m.Obj(3*x + 5*y)\n",
        "\n",
        "# Define as restrições\n",
        "m.Equation(2*x + 3*y >= 12)\n",
        "m.Equation(x + 2*y <= 8)\n",
        "m.Equation(x >= 0)\n",
        "m.Equation(y >= 0)\n",
        "\n",
        "# Resolve o problema\n",
        "m.solve(disp=False)\n",
        "\n",
        "# Exibe os resultados\n",
        "print(\"Resultados usando Gekko:\")\n",
        "print(\"x =\", x.value[0])\n",
        "print(\"y =\", y.value[0])\n",
        "print(\"Valor da função objetivo =\", m.options.objfcnval)"
      ],
      "metadata": {
        "colab": {
          "base_uri": "https://localhost:8080/"
        },
        "id": "gqB6E7RbzTEy",
        "outputId": "46d80515-fd10-484e-d2e6-f55c05883208"
      },
      "execution_count": 3,
      "outputs": [
        {
          "output_type": "stream",
          "name": "stdout",
          "text": [
            "Resultados usando Gekko:\n",
            "x = 6.0\n",
            "y = 0.0\n",
            "Valor da função objetivo = 18.0\n"
          ]
        }
      ]
    }
  ]
}